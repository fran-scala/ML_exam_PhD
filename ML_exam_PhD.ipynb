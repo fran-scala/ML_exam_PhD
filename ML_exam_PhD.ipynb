{
  "nbformat": 4,
  "nbformat_minor": 0,
  "metadata": {
    "colab": {
      "provenance": [],
      "collapsed_sections": [
        "FB4DU6tNMJez",
        "hGmi35jkrSMd",
        "9P63GixjxRIl",
        "h8IbpS68Y_5J",
        "VBoYT7GiZEeL",
        "71mLXCzgZEeM",
        "DrNga4O7hCI1"
      ],
      "gpuType": "T4",
      "mount_file_id": "1b18W-H6PIlnYyeX54U-spsKvemfrqF0Q",
      "authorship_tag": "ABX9TyOpzDWHeuv8NS4wE71nkrWZ",
      "include_colab_link": true
    },
    "kernelspec": {
      "name": "python3",
      "display_name": "Python 3"
    },
    "language_info": {
      "name": "python"
    },
    "accelerator": "GPU"
  },
  "cells": [
    {
      "cell_type": "markdown",
      "metadata": {
        "id": "view-in-github",
        "colab_type": "text"
      },
      "source": [
        "<a href=\"https://colab.research.google.com/github/fran-scala/ML_exam_PhD/blob/main/ML_exam_PhD.ipynb\" target=\"_parent\"><img src=\"https://colab.research.google.com/assets/colab-badge.svg\" alt=\"Open In Colab\"/></a>"
      ]
    },
    {
      "cell_type": "code",
      "source": [
        "# installing useful libraries\n",
        "! pip install pennylane --quiet\n",
        "! pip install seaborn --quiet"
      ],
      "metadata": {
        "id": "GjRjhkL7emJu",
        "colab": {
          "base_uri": "https://localhost:8080/"
        },
        "outputId": "0dcefca2-e097-4ec2-826f-7d52cf22f4a7"
      },
      "execution_count": 1,
      "outputs": [
        {
          "output_type": "stream",
          "name": "stdout",
          "text": [
            "\u001b[2K     \u001b[90m━━━━━━━━━━━━━━━━━━━━━━━━━━━━━━━━━━━━━━━━\u001b[0m \u001b[32m1.5/1.5 MB\u001b[0m \u001b[31m6.9 MB/s\u001b[0m eta \u001b[36m0:00:00\u001b[0m\n",
            "\u001b[2K     \u001b[90m━━━━━━━━━━━━━━━━━━━━━━━━━━━━━━━━━━━━━━━━\u001b[0m \u001b[32m2.0/2.0 MB\u001b[0m \u001b[31m13.2 MB/s\u001b[0m eta \u001b[36m0:00:00\u001b[0m\n",
            "\u001b[2K     \u001b[90m━━━━━━━━━━━━━━━━━━━━━━━━━━━━━━━━━━━━━━━━\u001b[0m \u001b[32m48.9/48.9 kB\u001b[0m \u001b[31m5.1 MB/s\u001b[0m eta \u001b[36m0:00:00\u001b[0m\n",
            "\u001b[2K     \u001b[90m━━━━━━━━━━━━━━━━━━━━━━━━━━━━━━━━━━━━━━━━\u001b[0m \u001b[32m48.3/48.3 kB\u001b[0m \u001b[31m5.9 MB/s\u001b[0m eta \u001b[36m0:00:00\u001b[0m\n",
            "\u001b[2K     \u001b[90m━━━━━━━━━━━━━━━━━━━━━━━━━━━━━━━━━━━━━━━━\u001b[0m \u001b[32m16.6/16.6 MB\u001b[0m \u001b[31m41.2 MB/s\u001b[0m eta \u001b[36m0:00:00\u001b[0m\n",
            "\u001b[?25h"
          ]
        }
      ]
    },
    {
      "cell_type": "markdown",
      "source": [
        "# Machine Learing exam\n",
        "\n",
        "In this notebook we want to apply Machine Learning techniques to classify quantum states possibly coming from an experiment. The main goal is to distinguish *random* quantum states (which can be seen as background noise) from states having a particular distribution (the ones coming from the experiment). Quantum states will be complex matrices produced by *quantum circuits* through `pennylane` Python library.\n",
        "\n"
      ],
      "metadata": {
        "id": "IuPIis1qdf9T"
      }
    },
    {
      "cell_type": "code",
      "execution_count": 2,
      "metadata": {
        "id": "mkz81se4delx"
      },
      "outputs": [],
      "source": [
        "import matplotlib as mpl\n",
        "from matplotlib import ticker\n",
        "import matplotlib.pyplot as plt\n",
        "import numpy as np\n",
        "import seaborn as sns\n",
        "import jax # require for Just In Time (JIT) compilation\n",
        "\n",
        "jax.config.update('jax_platform_name', 'cpu')\n",
        "jax.config.update(\"jax_enable_x64\", True)\n",
        "import jax.numpy as jnp\n",
        "\n",
        "import optax  # optimization using jax\n",
        "\n",
        "import pennylane as qml\n",
        "import pennylane.numpy as pnp\n",
        "\n",
        "from sklearn.model_selection import train_test_split\n",
        "from sklearn.metrics import mean_squared_error\n",
        "from sklearn.linear_model import LinearRegression\n",
        "from sklearn.preprocessing import MinMaxScaler\n",
        "\n",
        "%matplotlib inline\n",
        "sns.set()"
      ]
    },
    {
      "cell_type": "markdown",
      "source": [
        "# 1. Binary Classification"
      ],
      "metadata": {
        "id": "gSxwc1cH65lx"
      }
    },
    {
      "cell_type": "markdown",
      "source": [
        "In this section, we construct a Multi Layers Perceptron (MLP) to detect which quantum states are coming from the desired experiment."
      ],
      "metadata": {
        "id": "bqPm908EWwUA"
      }
    },
    {
      "cell_type": "markdown",
      "source": [
        "The first phenomenon we study the effect of the dataset size.\n",
        "In fact, since quantum states of $n$ qubits live in a Hilbert space of dimension $d=2^n$ which is exponential in the number of qubits itself, one can see that a fixed dataset size leads to overfitting and poor performance of the model as the number of qubits increases.\n",
        "For this reason, we will repeat the training procedure with different datasets corresponding to different numbers of qubits ($n\\in\\{2,3,4,5\\}$) for both the case with fixed (Sec 1.0) and exponential (Sec 1.1) dataset sizes.\n",
        "\n"
      ],
      "metadata": {
        "id": "2VO_jGioRTq0"
      }
    },
    {
      "cell_type": "markdown",
      "source": [
        "(We gathered the results of the different trainings in a single file and then we compare the results through their loss histories and ROC curves. One can skip directly to the *Multi-qubit data analysis* sections (1.1.3 and 1.2.3) load the data and see the results.)"
      ],
      "metadata": {
        "id": "5zq0l49vS14O"
      }
    },
    {
      "cell_type": "markdown",
      "source": [
        "### 1.0.1 Make binary dataset function"
      ],
      "metadata": {
        "id": "FB4DU6tNMJez"
      }
    },
    {
      "cell_type": "code",
      "source": [
        "def make_binary_dataset(n_qubits, size=4000):\n",
        "\n",
        "    seed = 12345\n",
        "    np.random.seed(seed=seed)\n",
        "\n",
        "    # device producing quantum states\n",
        "    device = qml.device(\"default.qubit.jax\", wires=n_qubits,)\n",
        "\n",
        "    @qml.qnode(device,interface='jax')\n",
        "    def random_circuit(thetas, wires):\n",
        "        ''' Function implementing a quantum circuit\n",
        "          if the number of layers is high (>10)\n",
        "          then the circuit produces random states'''\n",
        "        assert len(thetas)%layers == 0\n",
        "\n",
        "        wires = range(n_qubits)\n",
        "\n",
        "        k = 0\n",
        "        # LAYERS OF QUANTUM OPERATIONS\n",
        "        for lay in range(20):\n",
        "          for i in wires:\n",
        "              qml.RY(np.pi/2, wires=i)\n",
        "          for i in wires:\n",
        "              qml.RZ(thetas[k], wires=i)\n",
        "              k += 1\n",
        "          for qb in wires[:-1]:\n",
        "              qml.CNOT(wires=[wires[qb], wires[qb+1]])\n",
        "          for i in wires:\n",
        "              qml.RX(thetas[k], wires=i)\n",
        "              k += 1\n",
        "        return qml.density_matrix(wires=wires)\n",
        "\n",
        "    @qml.qnode(device,interface='jax')\n",
        "    def specific_circuit(thetas, wires):\n",
        "        ''' Function implementing a quantum circuit\n",
        "          if the number of layers is high (>10)\n",
        "          then the circuit produces random states'''\n",
        "        assert len(thetas)%layers == 0\n",
        "\n",
        "        wires = range(n_qubits)\n",
        "\n",
        "        k = 0\n",
        "        # LAYERS OF QUANTUM OPERATIONS\n",
        "        for lay in range(2):\n",
        "          for i in wires:\n",
        "              qml.RY(np.pi/2, wires=i)\n",
        "          for i in wires:\n",
        "              qml.RZ(thetas[k], wires=i)\n",
        "              k += 1\n",
        "          for qb in wires[:-1]:\n",
        "              qml.CNOT(wires=[wires[qb], wires[qb+1]])\n",
        "          for i in wires:\n",
        "              qml.RX(thetas[k], wires=i)\n",
        "              k += 1\n",
        "        return qml.density_matrix(wires=wires)\n",
        "\n",
        "    # producing random states\n",
        "    random_states = int(size/2) #2000 random states\n",
        "    layers = 20\n",
        "    n_params = n_qubits*layers*2\n",
        "\n",
        "    key = jax.random.PRNGKey(12345)\n",
        "    thetas = 2*jnp.pi*jax.random.uniform(key, shape=(random_states,n_params))\n",
        "    r_circ = jax.jit(random_circuit)\n",
        "    rand_states_dataset = []\n",
        "\n",
        "    for t in thetas:\n",
        "      rand_states_dataset.append(r_circ(thetas=t, wires=[i for i in range(n_qubits)]))\n",
        "\n",
        "    #producing non-random states\n",
        "\n",
        "    non_random_states = int(size/2) #2000 random states\n",
        "    layers = 2\n",
        "    n_params = n_qubits*layers*2\n",
        "\n",
        "    key = jax.random.PRNGKey(54321)\n",
        "    thetas = 2*jnp.pi*jax.random.uniform(key, shape=(non_random_states,n_params))\n",
        "    circ = jax.jit(specific_circuit)\n",
        "    non_rand_states_dataset = []\n",
        "\n",
        "    for t in thetas:\n",
        "      non_rand_states_dataset.append(circ(thetas=t, wires=[i for i in range(n_qubits)]))\n",
        "\n",
        "    rand_states_dataset = np.array(rand_states_dataset)\n",
        "    non_rand_states_dataset = np.array(non_rand_states_dataset)\n",
        "\n",
        "    X = np.concatenate([rand_states_dataset, non_rand_states_dataset], axis=0)\n",
        "    y = np.concatenate([np.zeros(random_states, dtype=int), np.ones(non_random_states, dtype=int)])\n",
        "\n",
        "    X_train, X_test, y_train, y_test = train_test_split(X, y, test_size=0.3, random_state=40, shuffle=True)\n",
        "    X_val, X_test, y_val, y_test = train_test_split(X_test, y_test, test_size=0.5, random_state=50, shuffle=True)\n",
        "\n",
        "    return X_train, X_val, X_test, y_train, y_val, y_test\n"
      ],
      "metadata": {
        "id": "wgzLHwZxdi6Q"
      },
      "execution_count": null,
      "outputs": []
    },
    {
      "cell_type": "markdown",
      "source": [
        "### 1.0.2 Create binary dataset"
      ],
      "metadata": {
        "id": "1Z2ZdamR56JQ"
      }
    },
    {
      "cell_type": "code",
      "source": [
        "# dictionary in which we will store the data\n",
        "data_dict={}"
      ],
      "metadata": {
        "id": "qG_KsrGKal7l"
      },
      "execution_count": null,
      "outputs": []
    },
    {
      "cell_type": "markdown",
      "source": [
        "## 1.1 Fixed dimension dataset"
      ],
      "metadata": {
        "id": "hGmi35jkrSMd"
      }
    },
    {
      "cell_type": "code",
      "source": [
        "n_qubits = 2 # quantum unit of computation\n",
        "            # determining the dimension of the state matrix\n",
        "            # matrix.shape = (2**(n_qubits),2**(n_qubits))\n",
        "size = 4000\n",
        "(X_train, X_val, X_test,\n",
        " y_train, y_val, y_test) = make_binary_dataset(n_qubits, size)"
      ],
      "metadata": {
        "id": "YakCTPete-Ik"
      },
      "execution_count": null,
      "outputs": []
    },
    {
      "cell_type": "code",
      "source": [
        "print('train\\t\\t',X_train.shape)\n",
        "print('validation\\t',X_val.shape)\n",
        "print('test\\t\\t',X_test.shape)"
      ],
      "metadata": {
        "colab": {
          "base_uri": "https://localhost:8080/"
        },
        "id": "m-bejfjZjOfX",
        "outputId": "5876bfc8-4866-463c-db28-bde5319c554b"
      },
      "execution_count": null,
      "outputs": [
        {
          "output_type": "stream",
          "name": "stdout",
          "text": [
            "train\t\t (2800, 32)\n",
            "validation\t (600, 32)\n",
            "test\t\t (600, 32)\n"
          ]
        }
      ]
    },
    {
      "cell_type": "code",
      "source": [
        "# flatten the matrices and splitting real and imaginary part\n",
        "X_train = np.array(list(map(lambda x: np.concatenate([x.real.flatten(),x.imag.flatten()]), X_train)))\n",
        "print(X_train.shape)\n",
        "X_val = np.array(list(map(lambda x: np.concatenate([x.real.flatten(),x.imag.flatten()]), X_val)))\n",
        "X_test = np.array(list(map(lambda x: np.concatenate([x.real.flatten(),x.imag.flatten()]), X_test)))"
      ],
      "metadata": {
        "colab": {
          "base_uri": "https://localhost:8080/"
        },
        "id": "wYLAGhfdsNnv",
        "outputId": "45e4302d-0e2b-4723-dd5f-5987dfe970b5"
      },
      "execution_count": null,
      "outputs": [
        {
          "output_type": "stream",
          "name": "stdout",
          "text": [
            "(2800, 32)\n"
          ]
        }
      ]
    },
    {
      "cell_type": "markdown",
      "source": [
        "### 1.1.1 Build and train model"
      ],
      "metadata": {
        "id": "9P63GixjxRIl"
      }
    },
    {
      "cell_type": "markdown",
      "source": [
        "To address this classification task one can employ a Multi-Layer Perceptron. Since we are performing binary classification it is important that the output layer has only one neuron with `sigmoid` activation function."
      ],
      "metadata": {
        "id": "bG0mLL3FUX-T"
      }
    },
    {
      "cell_type": "code",
      "source": [
        "# keras imports\n",
        "from tensorflow.keras.models import Model\n",
        "from tensorflow.keras.layers import Dense, Input, Dropout, Flatten, Activation\n",
        "from tensorflow.keras.utils import plot_model\n",
        "from tensorflow.keras import backend as K\n",
        "from tensorflow.keras import metrics\n",
        "from tensorflow.keras.callbacks import EarlyStopping, ReduceLROnPlateau, TerminateOnNaN"
      ],
      "metadata": {
        "id": "7qUIZ84hrRaD"
      },
      "execution_count": null,
      "outputs": []
    },
    {
      "cell_type": "code",
      "source": [
        "input_shape = ((2**n_qubits)**2)*2\n",
        "dropoutRate = 0.25 # without dropout overfitting can be seen already at 4 qubits\n",
        "\n",
        "####\n",
        "inputArray = Input(shape=(input_shape,))\n",
        "#\n",
        "x = Dense(256, activation='relu')(inputArray)\n",
        "x = Dropout(dropoutRate)(x)\n",
        "#\n",
        "x = Dense(40, activation='relu')(x)\n",
        "x = Dropout(dropoutRate)(x)\n",
        "#\n",
        "x = Dense(20)(x)\n",
        "x = Activation('relu')(x)\n",
        "x = Dropout(dropoutRate)(x)\n",
        "#\n",
        "x = Dense(10, activation='relu')(x)\n",
        "x = Dropout(dropoutRate)(x)\n",
        "#\n",
        "x = Dense(5, activation='relu')(x)\n",
        "#\n",
        "output = Dense(1, activation='sigmoid')(x)#'softmax'\n",
        "####\n",
        "model = Model(inputs=inputArray, outputs=output)"
      ],
      "metadata": {
        "id": "MLZP6rceppTd"
      },
      "execution_count": null,
      "outputs": []
    },
    {
      "cell_type": "markdown",
      "source": [
        "For the same reason we employ the `binary_crossentropy` as the the cost function for our training."
      ],
      "metadata": {
        "id": "T1hXhdqcUcLs"
      }
    },
    {
      "cell_type": "code",
      "source": [
        "model.compile(loss='binary_crossentropy', optimizer='adam')\n",
        "model.summary()"
      ],
      "metadata": {
        "id": "BrZHqVWkrk4c"
      },
      "execution_count": null,
      "outputs": []
    },
    {
      "cell_type": "code",
      "source": [
        "batch_size = 28\n",
        "n_epochs = 100\n",
        "\n",
        "# train\n",
        "history = model.fit(X_train, y_train, epochs=n_epochs, batch_size=batch_size, verbose = 2,\n",
        "                validation_data=(X_val, y_val),\n",
        "                callbacks = [\n",
        "                EarlyStopping(monitor='val_loss', patience=10, verbose=1),\n",
        "                ReduceLROnPlateau(monitor='val_loss', factor=0.1, patience=2, verbose=1),\n",
        "                TerminateOnNaN()])\n"
      ],
      "metadata": {
        "id": "-r0HZQX2rqJo"
      },
      "execution_count": null,
      "outputs": []
    },
    {
      "cell_type": "markdown",
      "source": [
        "### 1.1.2 Data analysis"
      ],
      "metadata": {
        "id": "5N393fmVxbH4"
      }
    },
    {
      "cell_type": "markdown",
      "source": [
        "In this section, we evaluate the performance of the trained model. As a first step one can give a look to the (train and validation) loss history during training. From this one can check if the training procedure was succesful and detect the possible presence of overfitting.\n",
        "\n",
        "(Here the cell is commented because we will get back on this below when we compare all the trainings.)"
      ],
      "metadata": {
        "id": "2W01jjnJP3y5"
      }
    },
    {
      "cell_type": "code",
      "source": [
        "## PLOTTING HISTORY\n",
        "\n",
        "# # plot training history\n",
        "# plt.plot(history.history['loss'])\n",
        "# plt.plot(history.history['val_loss'])\n",
        "# # plt.yscale('log')\n",
        "# plt.title('Training History')\n",
        "# plt.ylabel('loss')\n",
        "# plt.xlabel('epoch')\n",
        "# plt.legend(['training', 'validation'], loc='upper right')\n",
        "# plt.show()\n",
        "\n"
      ],
      "metadata": {
        "id": "sKNWDz6LsGgM"
      },
      "execution_count": null,
      "outputs": []
    },
    {
      "cell_type": "code",
      "source": [
        "data_dict[n_qubits] = {}\n",
        "data_dict[n_qubits]['loss'] = list(history.history['loss'])\n",
        "data_dict[n_qubits]['val_loss'] = list(history.history['val_loss'])"
      ],
      "metadata": {
        "id": "KM82UHkxaSGV"
      },
      "execution_count": null,
      "outputs": []
    },
    {
      "cell_type": "code",
      "source": [
        "from sklearn.metrics import roc_curve, auc\n",
        "predict_test = model.predict(X_test)\n",
        "\n",
        "fpr, tpr, threshold = roc_curve(y_test, predict_test)\n",
        "\n",
        "# plt.plot(fpr,tpr,)\n",
        "# plt.ylabel('TPR')\n",
        "# plt.xlabel('FPR')\n"
      ],
      "metadata": {
        "id": "1jW17wUDvayR",
        "colab": {
          "base_uri": "https://localhost:8080/"
        },
        "outputId": "08f3551b-631b-493a-dca6-accc532000d9"
      },
      "execution_count": null,
      "outputs": [
        {
          "output_type": "stream",
          "name": "stdout",
          "text": [
            "19/19 [==============================] - 0s 2ms/step\n"
          ]
        }
      ]
    },
    {
      "cell_type": "code",
      "source": [
        "data_dict[n_qubits]['tpr'] = list(tpr)\n",
        "data_dict[n_qubits]['fpr'] = list(fpr)"
      ],
      "metadata": {
        "id": "7N2ok1wIbOJh"
      },
      "execution_count": null,
      "outputs": []
    },
    {
      "cell_type": "code",
      "source": [
        "for k,v in data_dict.items():\n",
        "  print('n_qubits',k)"
      ],
      "metadata": {
        "colab": {
          "base_uri": "https://localhost:8080/"
        },
        "id": "V1-p5ozwhrkG",
        "outputId": "401d07b5-cb08-4e70-e1a8-ee67138c743e"
      },
      "execution_count": null,
      "outputs": [
        {
          "output_type": "stream",
          "name": "stdout",
          "text": [
            "n_qubits 2\n",
            "n_qubits 3\n",
            "n_qubits 4\n",
            "n_qubits 5\n"
          ]
        }
      ]
    },
    {
      "cell_type": "code",
      "source": [
        "# mounting drive for saving and loading results\n",
        "# if you're using colab\n",
        "try:\n",
        "  from google.colab import drive\n",
        "  drive.mount('/content/drive')\n",
        "  home_dir = '/content/drive/My Drive'\n",
        "\n",
        "# if you're not using colab the drive folder doesn't exist\n",
        "# so load the data from the github repo you cloned\n",
        "except:\n",
        "  home_dir = '/data_dir'"
      ],
      "metadata": {
        "id": "6MqleTg_OrxX"
      },
      "execution_count": null,
      "outputs": []
    },
    {
      "cell_type": "code",
      "source": [
        "import pandas as pd\n",
        "\n",
        "def load_fix_dim_data():\n",
        "  ''' load the dictionary and format all entries\n",
        "  so they are again arrays and not str'''\n",
        "\n",
        "  data_dict = {}\n",
        "  try:\n",
        "    data_pd = pd.read_csv(home_dir+'/MLP_multiqubit_train_val_tpr_fpr.csv', index_col=0)\n",
        "  except:\n",
        "    print('Error!! Returning empty dict')\n",
        "    return {}\n",
        "  for n_qubits in data_pd.columns:\n",
        "    data_dict[int(n_qubits)] = {}\n",
        "    for prop in data_pd.index:\n",
        "\n",
        "      tmp = data_pd[[n_qubits]].loc[prop].values[0]\n",
        "      tmp = tmp[1:-1].split(', ')\n",
        "      data_dict[int(n_qubits)][prop] = list(np.array(tmp, dtype=float))\n",
        "\n",
        "  return data_dict\n",
        "\n"
      ],
      "metadata": {
        "id": "S3CW3roJedfI"
      },
      "execution_count": null,
      "outputs": []
    },
    {
      "cell_type": "code",
      "source": [
        "old_data = load_fix_dim_data()\n",
        "\n",
        "for k,v in data_dict.items():\n",
        "  if k not in old_data.keys():\n",
        "    old_data[k] = v"
      ],
      "metadata": {
        "id": "kZZrHd517oXR"
      },
      "execution_count": null,
      "outputs": []
    },
    {
      "cell_type": "code",
      "source": [
        "old_data.keys()"
      ],
      "metadata": {
        "colab": {
          "base_uri": "https://localhost:8080/"
        },
        "id": "UbgT1Rh2v8FY",
        "outputId": "3fdd5f3e-74a9-4d78-c5d1-eab984bec84c"
      },
      "execution_count": null,
      "outputs": [
        {
          "output_type": "execute_result",
          "data": {
            "text/plain": [
              "dict_keys([2, 3, 4, 5])"
            ]
          },
          "metadata": {},
          "execution_count": 42
        }
      ]
    },
    {
      "cell_type": "code",
      "source": [
        "# saving data\n",
        "pd.DataFrame(old_data).to_csv(home_dir+'/MLP_multiqubit_train_val_tpr_fpr.csv')\n"
      ],
      "metadata": {
        "id": "Jdv7ZLKyvo-o"
      },
      "execution_count": null,
      "outputs": []
    },
    {
      "cell_type": "markdown",
      "source": [
        "### 1.1.3 Multi-qubit data analysis"
      ],
      "metadata": {
        "id": "D0RaAWOJyvat"
      }
    },
    {
      "cell_type": "markdown",
      "source": [
        "#### 1.1.3.0 Load data"
      ],
      "metadata": {
        "id": "IXOfSyDQ75mM"
      }
    },
    {
      "cell_type": "code",
      "source": [
        "# mounting drive for saving and loading results\n",
        "# if you're using colab\n",
        "try:\n",
        "  from google.colab import drive\n",
        "  drive.mount('/content/drive')\n",
        "  home_dir = '/content/drive/My Drive'\n",
        "\n",
        "# if you're not using colab the drive folder doesn't exist\n",
        "# so load the data from the github repo you cloned\n",
        "except:\n",
        "  home_dir = '/data_dir'"
      ],
      "metadata": {
        "colab": {
          "base_uri": "https://localhost:8080/"
        },
        "id": "PltR0QTJ73q8",
        "outputId": "526c1827-c19b-4507-a57e-c9a535a87b8e"
      },
      "execution_count": 182,
      "outputs": [
        {
          "output_type": "stream",
          "name": "stdout",
          "text": [
            "Drive already mounted at /content/drive; to attempt to forcibly remount, call drive.mount(\"/content/drive\", force_remount=True).\n"
          ]
        }
      ]
    },
    {
      "cell_type": "code",
      "source": [
        "import pandas as pd\n",
        "\n",
        "def load_fix_dim_data():\n",
        "  ''' load the dictionary and format all entries\n",
        "  so they are again arrays and not str'''\n",
        "\n",
        "  data_dict = {}\n",
        "  try:\n",
        "    data_pd = pd.read_csv(home_dir+'/MLP_multiqubit_train_val_tpr_fpr.csv', index_col=0)\n",
        "  except:\n",
        "    print('Error!! Returning empty dict')\n",
        "    return {}\n",
        "  for n_qubits in data_pd.columns:\n",
        "    data_dict[int(n_qubits)] = {}\n",
        "    for prop in data_pd.index:\n",
        "\n",
        "      tmp = data_pd[[n_qubits]].loc[prop].values[0]\n",
        "      tmp = tmp[1:-1].split(', ')\n",
        "      data_dict[int(n_qubits)][prop] = list(np.array(tmp, dtype=float))\n",
        "\n",
        "  return data_dict\n",
        "\n"
      ],
      "metadata": {
        "id": "0iMsRVly73q9"
      },
      "execution_count": 183,
      "outputs": []
    },
    {
      "cell_type": "markdown",
      "source": [
        "#### 1.1.3.1 Analysis"
      ],
      "metadata": {
        "id": "UxVOnQO_8G6j"
      }
    },
    {
      "cell_type": "markdown",
      "source": [
        "As expected, employing a fixed dataset size of 4000 elements works fine for small number of qubits, but as soon as we increase the number of qubits this is not working anymore. This is witnessed by a drop in the AUC and highlighted by the ROC curve"
      ],
      "metadata": {
        "id": "YBx1_KbF87lb"
      }
    },
    {
      "cell_type": "code",
      "source": [
        "loaded_data = load_fix_dim_data()\n",
        "\n",
        "for k, v in loaded_data.items():\n",
        "  tpr = v['tpr']\n",
        "  fpr = v['fpr']\n",
        "  auc_ =  auc(fpr, tpr)\n",
        "  plt.plot(fpr,tpr,label=f'{k} qubits, AUC={auc_*100:.2f}%')\n",
        "plt.ylabel('TPR')\n",
        "plt.xlabel('FPR')\n",
        "plt.legend()"
      ],
      "metadata": {
        "colab": {
          "base_uri": "https://localhost:8080/",
          "height": 476
        },
        "id": "RzYQx6j3h3J0",
        "outputId": "31c4a464-17dd-4bc8-c4d9-b0e876a650c7"
      },
      "execution_count": 184,
      "outputs": [
        {
          "output_type": "execute_result",
          "data": {
            "text/plain": [
              "<matplotlib.legend.Legend at 0x7c4fc35bde40>"
            ]
          },
          "metadata": {},
          "execution_count": 184
        },
        {
          "output_type": "display_data",
          "data": {
            "text/plain": [
              "<Figure size 640x480 with 1 Axes>"
            ],
            "image/png": "[encoded data removed]"
          },
          "metadata": {}
        }
      ]
    },
    {
      "cell_type": "markdown",
      "source": [
        "By plotting the training history for different number of qubits we can see that as the number of qubits increases the overfitting phenomenon starts to arise. This is strictly linked to the fact that the dataset is not fully representative of the space and the model learns specifics patterns instead of general features.\n",
        "\n",
        "In the next section we will show that employing an exponential number of data one does not incurr in overfitting."
      ],
      "metadata": {
        "id": "bJdclrFvahsG"
      }
    },
    {
      "cell_type": "code",
      "source": [
        "n = 4 # number of qubits (4 and 5 are interesting)\n",
        "loss = loaded_data[n]['loss']\n",
        "val_loss = loaded_data[n]['val_loss']\n",
        "\n",
        "# plot training history\n",
        "plt.plot(loss)\n",
        "plt.plot(val_loss)\n",
        "# plt.yscale('log')\n",
        "plt.title('Training History')\n",
        "plt.ylabel('loss')\n",
        "plt.xlabel('epoch')\n",
        "plt.legend(['training', 'validation'], loc='upper right')\n",
        "plt.show()"
      ],
      "metadata": {
        "colab": {
          "base_uri": "https://localhost:8080/",
          "height": 480
        },
        "id": "sT-3fvtrsL7q",
        "outputId": "ea61d210-6dff-4ec4-d0db-1c3fc883324d"
      },
      "execution_count": 187,
      "outputs": [
        {
          "output_type": "display_data",
          "data": {
            "text/plain": [
              "<Figure size 640x480 with 1 Axes>"
            ],
            "image/png": "[encoded data removed]"
          },
          "metadata": {}
        }
      ]
    },
    {
      "cell_type": "markdown",
      "source": [
        "## 1.2 Exponentially big dataset"
      ],
      "metadata": {
        "id": "h8IbpS68Y_5J"
      }
    },
    {
      "cell_type": "code",
      "source": [
        "# dictionary in which we will store the data\n",
        "data_dict={}"
      ],
      "metadata": {
        "id": "kqViCneJbhmJ"
      },
      "execution_count": 173,
      "outputs": []
    },
    {
      "cell_type": "code",
      "source": [
        "n_qubits = 2 # quantum unit of computation\n",
        "            # determining the dimension of the state matrix\n",
        "            # matrix.shape = (2**(n_qubits),2**(n_qubits))\n",
        "size = 2**n_qubits*1000\n",
        "(X_train, X_val, X_test,\n",
        " y_train, y_val, y_test) = make_binary_dataset(n_qubits, size)"
      ],
      "metadata": {
        "id": "ecD1pAeCZUS9"
      },
      "execution_count": null,
      "outputs": []
    },
    {
      "cell_type": "code",
      "source": [
        "print('train\\t\\t',X_train.shape)\n",
        "print('validation\\t',X_val.shape)\n",
        "print('test\\t\\t',X_test.shape)"
      ],
      "metadata": {
        "colab": {
          "base_uri": "https://localhost:8080/"
        },
        "outputId": "6167db75-6a9f-4b30-8a2b-2a30c79cdb40",
        "id": "fV-A3jUnZUTF"
      },
      "execution_count": null,
      "outputs": [
        {
          "output_type": "stream",
          "name": "stdout",
          "text": [
            "train\t\t (2800, 4, 4)\n",
            "validation\t (600, 4, 4)\n",
            "test\t\t (600, 4, 4)\n"
          ]
        }
      ]
    },
    {
      "cell_type": "code",
      "source": [
        "# flatten the matrices and splitting real and imaginary part\n",
        "X_train = np.array(list(map(lambda x: np.concatenate([x.real.flatten(),x.imag.flatten()]), X_train)))\n",
        "print(X_train.shape)\n",
        "X_val = np.array(list(map(lambda x: np.concatenate([x.real.flatten(),x.imag.flatten()]), X_val)))\n",
        "X_test = np.array(list(map(lambda x: np.concatenate([x.real.flatten(),x.imag.flatten()]), X_test)))"
      ],
      "metadata": {
        "colab": {
          "base_uri": "https://localhost:8080/"
        },
        "outputId": "4e251412-472e-4035-c467-5e162e5c675b",
        "id": "Sr2WkPhHZEeL"
      },
      "execution_count": null,
      "outputs": [
        {
          "output_type": "stream",
          "name": "stdout",
          "text": [
            "(2800, 32)\n"
          ]
        }
      ]
    },
    {
      "cell_type": "markdown",
      "source": [
        "### 1.2.1 Build and train model"
      ],
      "metadata": {
        "id": "VBoYT7GiZEeL"
      }
    },
    {
      "cell_type": "markdown",
      "source": [
        "To address this classification task one can employ a Multi-Layer Perceptron. Since we are performing binary classification it is important that the output layer has only one neuron with `sigmoid` activation function."
      ],
      "metadata": {
        "id": "Sx0CX8iCZEeL"
      }
    },
    {
      "cell_type": "code",
      "source": [
        "# keras imports\n",
        "from tensorflow.keras.models import Model\n",
        "from tensorflow.keras.layers import Dense, Input, Dropout, Flatten, Activation\n",
        "from tensorflow.keras.utils import plot_model\n",
        "from tensorflow.keras import backend as K\n",
        "from tensorflow.keras import metrics\n",
        "from tensorflow.keras.callbacks import EarlyStopping, ReduceLROnPlateau, TerminateOnNaN"
      ],
      "metadata": {
        "id": "Br8hVQBQZEeM"
      },
      "execution_count": null,
      "outputs": []
    },
    {
      "cell_type": "code",
      "source": [
        "input_shape = ((2**n_qubits)**2)*2\n",
        "dropoutRate = 0.25\n",
        "\n",
        "####\n",
        "inputArray = Input(shape=(input_shape,))\n",
        "#\n",
        "x = Dense(40, activation='relu')(inputArray)\n",
        "x = Dropout(dropoutRate)(x)\n",
        "#\n",
        "x = Dense(20)(x)\n",
        "x = Activation('relu')(x)\n",
        "x = Dropout(dropoutRate)(x)\n",
        "#\n",
        "x = Dense(10, activation='relu')(x)\n",
        "x = Dropout(dropoutRate)(x)\n",
        "#\n",
        "x = Dense(5, activation='relu')(x)\n",
        "#\n",
        "output = Dense(1, activation='sigmoid')(x)#'softmax'\n",
        "####\n",
        "model = Model(inputs=inputArray, outputs=output)"
      ],
      "metadata": {
        "id": "zxt-ND8rZEeM"
      },
      "execution_count": null,
      "outputs": []
    },
    {
      "cell_type": "markdown",
      "source": [
        "For the same reason we employ the `binary_crossentropy` as the the cost function for our training."
      ],
      "metadata": {
        "id": "V1lUG4BJZEeM"
      }
    },
    {
      "cell_type": "code",
      "source": [
        "model.compile(loss='binary_crossentropy', optimizer='adam')\n",
        "model.summary()"
      ],
      "metadata": {
        "id": "Wvl9TDQCZEeM"
      },
      "execution_count": null,
      "outputs": []
    },
    {
      "cell_type": "code",
      "source": [
        "batch_size = 28\n",
        "n_epochs = 100\n",
        "\n",
        "# train\n",
        "history = model.fit(X_train, y_train, epochs=n_epochs, batch_size=batch_size, verbose = 2,\n",
        "                validation_data=(X_val, y_val),\n",
        "                callbacks = [\n",
        "                EarlyStopping(monitor='val_loss', patience=10, verbose=1),\n",
        "                ReduceLROnPlateau(monitor='val_loss', factor=0.1, patience=2, verbose=1),\n",
        "                TerminateOnNaN()])\n"
      ],
      "metadata": {
        "id": "ZnM5wS2NZEeM"
      },
      "execution_count": null,
      "outputs": []
    },
    {
      "cell_type": "markdown",
      "source": [
        "### 1.2.2 Data analysis"
      ],
      "metadata": {
        "id": "71mLXCzgZEeM"
      }
    },
    {
      "cell_type": "markdown",
      "source": [
        "In this section, we evaluate the performance of the trained model. As a first step one can give a look to the (train and validation) loss history during training. From this one can check if the training procedure was succesful and detect the possible presence of overfitting.\n",
        "\n",
        "(Here the cell is commented because we will get back on this below when we compare all the trainings.)"
      ],
      "metadata": {
        "id": "RqOWoTdzZEeN"
      }
    },
    {
      "cell_type": "code",
      "source": [
        "## PLOTTING HISTORY\n",
        "\n",
        "# # plot training history\n",
        "# plt.plot(history.history['loss'])\n",
        "# plt.plot(history.history['val_loss'])\n",
        "# # plt.yscale('log')\n",
        "# plt.title('Training History')\n",
        "# plt.ylabel('loss')\n",
        "# plt.xlabel('epoch')\n",
        "# plt.legend(['training', 'validation'], loc='upper right')\n",
        "# plt.show()\n",
        "\n"
      ],
      "metadata": {
        "id": "dYN_I7NEZEeN"
      },
      "execution_count": 168,
      "outputs": []
    },
    {
      "cell_type": "code",
      "source": [
        "data_dict[n_qubits] = {}\n",
        "data_dict[n_qubits]['loss'] = list(history.history['loss'])\n",
        "data_dict[n_qubits]['val_loss'] = list(history.history['val_loss'])"
      ],
      "metadata": {
        "id": "Ik34m5LRZEeN"
      },
      "execution_count": null,
      "outputs": []
    },
    {
      "cell_type": "code",
      "source": [
        "from sklearn.metrics import roc_curve, auc\n",
        "predict_test = model.predict(X_test)\n",
        "\n",
        "fpr, tpr, threshold = roc_curve(y_test, predict_test)\n",
        "\n",
        "# plt.plot(fpr,tpr,)\n",
        "# plt.ylabel('TPR')\n",
        "# plt.xlabel('FPR')\n"
      ],
      "metadata": {
        "id": "JASIeULdZEeN"
      },
      "execution_count": null,
      "outputs": []
    },
    {
      "cell_type": "code",
      "source": [
        "data_dict[n_qubits]['tpr'] = list(tpr)\n",
        "data_dict[n_qubits]['fpr'] = list(fpr)"
      ],
      "metadata": {
        "id": "CqiqL9urZEeN"
      },
      "execution_count": null,
      "outputs": []
    },
    {
      "cell_type": "code",
      "source": [
        "for k,v in data_dict.items():\n",
        "  print('n_qubits',k)"
      ],
      "metadata": {
        "id": "qpRrgq26ZEeN"
      },
      "execution_count": null,
      "outputs": []
    },
    {
      "cell_type": "code",
      "source": [
        "# mounting drive for saving and loading results\n",
        "# if you're using colab\n",
        "try:\n",
        "  from google.colab import drive\n",
        "  drive.mount('/content/drive')\n",
        "  home_dir = '/content/drive/My Drive'\n",
        "\n",
        "# if you're not using colab the drive folder doesn't exist\n",
        "# so load the data from the github repo you cloned\n",
        "except:\n",
        "  home_dir = '/data_dir'"
      ],
      "metadata": {
        "colab": {
          "base_uri": "https://localhost:8080/"
        },
        "id": "4bHkzPzxZEeO",
        "outputId": "39d54662-e0ef-44ec-d9e1-8170f4515dc2"
      },
      "execution_count": 181,
      "outputs": [
        {
          "output_type": "stream",
          "name": "stdout",
          "text": [
            "Drive already mounted at /content/drive; to attempt to forcibly remount, call drive.mount(\"/content/drive\", force_remount=True).\n",
            "True\n"
          ]
        }
      ]
    },
    {
      "cell_type": "code",
      "source": [
        "import pandas as pd\n",
        "\n",
        "def load_exp_data():\n",
        "  ''' load the dictionary and format all entries\n",
        "  so they are again arrays and not str'''\n",
        "\n",
        "  data_dict = {}\n",
        "  try:\n",
        "    data_pd = pd.read_csv(home_dir+'/MLP_exponential_multiqubit_train_val_tpr_fpr.csv', index_col=0)\n",
        "  except:\n",
        "    print('Error!! Returning empty dict')\n",
        "    return {}\n",
        "  for n_qubits in data_pd.columns:\n",
        "    data_dict[int(n_qubits)] = {}\n",
        "    for prop in data_pd.index:\n",
        "\n",
        "      tmp = data_pd[[n_qubits]].loc[prop].values[0]\n",
        "      tmp = tmp[1:-1].split(', ')\n",
        "      data_dict[int(n_qubits)][prop] = list(np.array(tmp, dtype=float))\n",
        "\n",
        "  return data_dict\n"
      ],
      "metadata": {
        "id": "E_AmddrrZEeO"
      },
      "execution_count": 174,
      "outputs": []
    },
    {
      "cell_type": "code",
      "source": [
        "old_data = load_exp_data()\n",
        "\n",
        "for k,v in data_dict.items():\n",
        "  if k not in old_data.keys():\n",
        "    old_data[k] = v"
      ],
      "metadata": {
        "id": "Ev4Zx2wH2ISt"
      },
      "execution_count": null,
      "outputs": []
    },
    {
      "cell_type": "code",
      "source": [
        "old_data.keys()"
      ],
      "metadata": {
        "id": "RMoDvDn2ZEeO"
      },
      "execution_count": null,
      "outputs": []
    },
    {
      "cell_type": "code",
      "source": [
        "# saving data\n",
        "pd.DataFrame(old_data).to_csv(home_dir+'/MLP_exponential_multiqubit_train_val_tpr_fpr.csv')\n"
      ],
      "metadata": {
        "id": "gs1FFWsRZEeO"
      },
      "execution_count": null,
      "outputs": []
    },
    {
      "cell_type": "markdown",
      "source": [
        "### 1.2.3 Multi qubit data analysis"
      ],
      "metadata": {
        "id": "PUN53ZHwZEeO"
      }
    },
    {
      "cell_type": "markdown",
      "source": [
        "#### 1.1.3.0 Load data"
      ],
      "metadata": {
        "id": "CG8f4yIF-RrJ"
      }
    },
    {
      "cell_type": "code",
      "source": [
        "# mounting drive for saving and loading results\n",
        "# if you're using colab\n",
        "try:\n",
        "  from google.colab import drive\n",
        "  drive.mount('/content/drive')\n",
        "  home_dir = '/content/drive/My Drive'\n",
        "\n",
        "# if you're not using colab the drive folder doesn't exist\n",
        "# so load the data from the github repo you cloned\n",
        "except:\n",
        "  home_dir = '/data_dir'"
      ],
      "metadata": {
        "colab": {
          "base_uri": "https://localhost:8080/"
        },
        "outputId": "4b28637b-2ff5-4ee2-c916-222bc1b5b4eb",
        "id": "3IdttIgC-RrR"
      },
      "execution_count": 188,
      "outputs": [
        {
          "output_type": "stream",
          "name": "stdout",
          "text": [
            "Drive already mounted at /content/drive; to attempt to forcibly remount, call drive.mount(\"/content/drive\", force_remount=True).\n"
          ]
        }
      ]
    },
    {
      "cell_type": "code",
      "source": [
        "import pandas as pd\n",
        "\n",
        "def load_exp_data():\n",
        "  ''' load the dictionary and format all entries\n",
        "  so they are again arrays and not str'''\n",
        "\n",
        "  data_dict = {}\n",
        "  try:\n",
        "    data_pd = pd.read_csv(home_dir+'/MLP_exponential_multiqubit_train_val_tpr_fpr.csv', index_col=0)\n",
        "  except:\n",
        "    print('Error!! Returning empty dict')\n",
        "    return {}\n",
        "  for n_qubits in data_pd.columns:\n",
        "    data_dict[int(n_qubits)] = {}\n",
        "    for prop in data_pd.index:\n",
        "\n",
        "      tmp = data_pd[[n_qubits]].loc[prop].values[0]\n",
        "      tmp = tmp[1:-1].split(', ')\n",
        "      data_dict[int(n_qubits)][prop] = list(np.array(tmp, dtype=float))\n",
        "\n",
        "  return data_dict"
      ],
      "metadata": {
        "id": "5vhH6d5Y-RrS"
      },
      "execution_count": 189,
      "outputs": []
    },
    {
      "cell_type": "markdown",
      "source": [
        "#### 1.1.3.1 Analysis"
      ],
      "metadata": {
        "id": "ITqnp8A1-RrS"
      }
    },
    {
      "cell_type": "markdown",
      "source": [
        "With the increased dataset dimension we were able to obtain almost perfect results $\\left(AUC\\approx1\\right)$ for all the studied cases."
      ],
      "metadata": {
        "id": "VZhd5scnf8g4"
      }
    },
    {
      "cell_type": "code",
      "source": [
        "loaded_data = load_exp_data()\n",
        "\n",
        "for k, v in sorted(loaded_data.items()):\n",
        "  tpr = v['tpr']\n",
        "  fpr = v['fpr']\n",
        "  auc_ =  auc(fpr, tpr)\n",
        "  plt.plot(fpr,tpr,label=f'{k} qubits, AUC={auc_*100:.2f}%')\n",
        "plt.ylabel('TPR')\n",
        "plt.xlabel('FPR')\n",
        "plt.legend()"
      ],
      "metadata": {
        "colab": {
          "base_uri": "https://localhost:8080/",
          "height": 476
        },
        "outputId": "e3a2d529-8b75-4bfb-9dd3-33b5d860a2f4",
        "id": "bmwLWJt1ZEeO"
      },
      "execution_count": 190,
      "outputs": [
        {
          "output_type": "execute_result",
          "data": {
            "text/plain": [
              "<matplotlib.legend.Legend at 0x7c4f5811b700>"
            ]
          },
          "metadata": {},
          "execution_count": 190
        },
        {
          "output_type": "display_data",
          "data": {
            "text/plain": [
              "<Figure size 640x480 with 1 Axes>"
            ],
            "image/png": "[encoded data removed]"
          },
          "metadata": {}
        }
      ]
    },
    {
      "cell_type": "markdown",
      "source": [
        "One can also check that overfitting completely disappeared for the cases with 4 and 5 qubits."
      ],
      "metadata": {
        "id": "sDpi3Dj4ggF4"
      }
    },
    {
      "cell_type": "code",
      "source": [
        "n = 4 # number of qubits (4 and 5 are interesting)\n",
        "loss = loaded_data[n]['loss']\n",
        "val_loss = loaded_data[n]['val_loss']\n",
        "\n",
        "# plot training history\n",
        "plt.plot(loss)\n",
        "plt.plot(val_loss)\n",
        "# plt.yscale('log')\n",
        "plt.title('Training History')\n",
        "plt.ylabel('loss')\n",
        "plt.xlabel('epoch')\n",
        "plt.legend(['training', 'validation'], loc='upper right')\n",
        "plt.show()"
      ],
      "metadata": {
        "colab": {
          "base_uri": "https://localhost:8080/",
          "height": 480
        },
        "id": "5D9FGNvjZEeP",
        "outputId": "ad3b440b-7df7-4c72-e93a-070605820e05"
      },
      "execution_count": 193,
      "outputs": [
        {
          "output_type": "display_data",
          "data": {
            "text/plain": [
              "<Figure size 640x480 with 1 Axes>"
            ],
            "image/png": "[encoded data removed]"
          },
          "metadata": {}
        }
      ]
    },
    {
      "cell_type": "markdown",
      "source": [
        "# 2. Multiclass classification"
      ],
      "metadata": {
        "id": "EDo4zSyz9rIb"
      }
    },
    {
      "cell_type": "markdown",
      "source": [
        "In this section, we complicate the classification task by adding data coming from different experiments (extra classes) to be distinguished one from the other and from noise. This is done for 5 qubits with exponentially big dataset (equally divided in 3 classes). We will see that the MLP employed in the previous section is able to perform well also in this case, but employing a CNN will improve the performance while reducing the number of parameters (from 80k to 30k)."
      ],
      "metadata": {
        "id": "aGDeMToX95VY"
      }
    },
    {
      "cell_type": "markdown",
      "source": [
        "### 2.0.1 Build multiclass dataset function"
      ],
      "metadata": {
        "id": "PNB-Nv8DxuFi"
      }
    },
    {
      "cell_type": "code",
      "source": [
        "from sklearn.preprocessing import OneHotEncoder\n",
        "\n",
        "def make_multiclass_dataset(n_qubits, size=4000):\n",
        "\n",
        "    seed = 12345\n",
        "    np.random.seed(seed=seed)\n",
        "\n",
        "    # device producing quantum states\n",
        "    device = qml.device(\"default.qubit.jax\", wires=n_qubits,)\n",
        "\n",
        "    @qml.qnode(device,interface='jax')\n",
        "    def random_circuit(thetas, wires):\n",
        "        ''' Function implementing a quantum circuit\n",
        "          if the number of layers is high (>10)\n",
        "          then the circuit produces random states'''\n",
        "        assert len(thetas)%layers == 0\n",
        "        wires = range(n_qubits)\n",
        "\n",
        "        k = 0\n",
        "        # LAYERS OF QUANTUM OPERATIONS\n",
        "        for lay in range(20):\n",
        "          for i in wires:\n",
        "              qml.RY(np.pi/2, wires=i)\n",
        "          for i in wires:\n",
        "              qml.RZ(thetas[k], wires=i)\n",
        "              k += 1\n",
        "          for qb in wires[:-1]:\n",
        "              qml.CNOT(wires=[wires[qb], wires[qb+1]])\n",
        "          for i in wires:\n",
        "              qml.RX(thetas[k], wires=i)\n",
        "              k += 1\n",
        "        return qml.density_matrix(wires=wires)\n",
        "\n",
        "    @qml.qnode(device,interface='jax')\n",
        "    def specific_circuit_1(thetas, wires):\n",
        "        ''' employs parametrized RZ and RX rotations'''\n",
        "        assert len(thetas)%layers == 0\n",
        "        wires = range(n_qubits)\n",
        "\n",
        "        k = 0\n",
        "        # LAYERS OF QUANTUM OPERATIONS\n",
        "        for lay in range(layers):\n",
        "          for i in wires:\n",
        "              qml.RY(np.pi/2, wires=i)\n",
        "          for i in wires:\n",
        "              qml.RZ(thetas[k], wires=i)\n",
        "              k += 1\n",
        "          for qb in wires[:-1]:\n",
        "              qml.CNOT(wires=[wires[qb], wires[qb+1]])\n",
        "          for i in wires:\n",
        "              qml.RX(thetas[k], wires=i)\n",
        "              k += 1\n",
        "        return qml.density_matrix(wires=wires)\n",
        "    @qml.qnode(device,interface='jax')\n",
        "    def specific_circuit_2(thetas, wires):\n",
        "        ''' employs parametrized RY and RZ rotations'''\n",
        "        assert len(thetas)%layers == 0\n",
        "        wires = range(n_qubits)\n",
        "\n",
        "        k = 0\n",
        "        # LAYERS OF QUANTUM OPERATIONS\n",
        "        for lay in range(layers):\n",
        "          for i in wires:\n",
        "              qml.RY(np.pi/2, wires=i)\n",
        "          for i in wires:\n",
        "              qml.RX(thetas[k], wires=i)\n",
        "              k += 1\n",
        "          # for qb in wires[:-1]:\n",
        "          #     qml.CNOT(wires=[wires[qb], wires[qb+1]])\n",
        "          for i in wires:\n",
        "              qml.RZ(thetas[k], wires=i)\n",
        "              k += 1\n",
        "        return qml.density_matrix(wires=wires)\n",
        "    # producing random states\n",
        "    random_states = int(size/3)\n",
        "    layers = 20\n",
        "    n_params = n_qubits*layers*2\n",
        "\n",
        "    key = jax.random.PRNGKey(12345)\n",
        "    thetas = 2*jnp.pi*jax.random.uniform(key, shape=(random_states,n_params))\n",
        "    r_circ = jax.jit(random_circuit)\n",
        "    rand_states_dataset = []\n",
        "\n",
        "    for t in thetas:\n",
        "      rand_states_dataset.append(r_circ(thetas=t, wires=[i for i in range(n_qubits)]))\n",
        "\n",
        "    #producing non-random states\n",
        "    #process 1\n",
        "    non_random_states = int(size/3)\n",
        "    layers = 2\n",
        "    n_params = n_qubits*layers*2\n",
        "\n",
        "    key = jax.random.PRNGKey(54321)\n",
        "    thetas = 2*jnp.pi*jax.random.uniform(key, shape=(non_random_states,n_params))\n",
        "    circ = jax.jit(specific_circuit_1)\n",
        "    non_rand_states_dataset_1 = []\n",
        "\n",
        "    for t in thetas:\n",
        "      non_rand_states_dataset_1.append(circ(thetas=t, wires=[i for i in range(n_qubits)]))\n",
        "\n",
        "    #process 2\n",
        "    non_random_states = int(size/3)\n",
        "    layers = 2\n",
        "    n_params = n_qubits*layers*2\n",
        "\n",
        "    key = jax.random.PRNGKey(33333)\n",
        "    thetas = 2*jnp.pi*jax.random.uniform(key, shape=(non_random_states,n_params))\n",
        "    circ = jax.jit(specific_circuit_2)\n",
        "    non_rand_states_dataset_2 = []\n",
        "\n",
        "    for t in thetas:\n",
        "      non_rand_states_dataset_2.append(circ(thetas=t, wires=[i for i in range(n_qubits)]))\n",
        "\n",
        "    rand_states_dataset = np.array(rand_states_dataset)\n",
        "    non_rand_states_dataset_1 = np.array(non_rand_states_dataset_1)\n",
        "    non_rand_states_dataset_2 = np.array(non_rand_states_dataset_2)\n",
        "\n",
        "    X = np.concatenate([rand_states_dataset, non_rand_states_dataset_1,\n",
        "                        non_rand_states_dataset_2], axis=0)\n",
        "    y = np.concatenate([np.zeros(random_states, dtype=int),\n",
        "                        np.ones(non_random_states, dtype=int),\n",
        "                        2*np.ones(non_random_states, dtype=int)])\n",
        "\n",
        "    X_train, X_test, y_train, y_test = train_test_split(X, y, test_size=0.3, random_state=40, shuffle=True)\n",
        "    X_val, X_test, y_val, y_test = train_test_split(X_test, y_test, test_size=0.5, random_state=50, shuffle=True)\n",
        "\n",
        "    # onehot vector representation of the labels\n",
        "    # needed for employing softmax\n",
        "    scalerY = OneHotEncoder(sparse=False)#_output\n",
        "    y_train = scalerY.fit_transform(y_train.reshape(-1,1))\n",
        "    y_val = scalerY.transform(y_val.reshape(-1,1))\n",
        "    y_test = scalerY.transform(y_test.reshape(-1,1))\n",
        "\n",
        "    y = y.reshape(-1,3)\n",
        "    y_val = y_val.reshape(-1,3)\n",
        "    y_test = y_test.reshape(-1,3)\n",
        "    return X_train, X_val, X_test, y_train, y_val, y_test\n"
      ],
      "metadata": {
        "id": "qX0uiMpc92fu"
      },
      "execution_count": 3,
      "outputs": []
    },
    {
      "cell_type": "markdown",
      "source": [
        "### 2.0.2 Create dataset"
      ],
      "metadata": {
        "id": "U7_axtryx0q4"
      }
    },
    {
      "cell_type": "code",
      "source": [
        "n_qubits = 5 # quantum unit of computation\n",
        "            # determining the dimension of the state matrix\n",
        "            # matrix.shape = (2**(n_qubits),2**(n_qubits))\n",
        "size = 2**n_qubits*1000\n",
        "(X_train, X_val, X_test,\n",
        " y_train, y_val, y_test) = make_multiclass_dataset(n_qubits, size)"
      ],
      "metadata": {
        "colab": {
          "base_uri": "https://localhost:8080/"
        },
        "id": "BGEfsg2X9rIl",
        "outputId": "55c28b02-08d4-404f-dfde-d591cf3bd636"
      },
      "execution_count": 149,
      "outputs": [
        {
          "output_type": "stream",
          "name": "stderr",
          "text": [
            "/usr/local/lib/python3.10/dist-packages/sklearn/preprocessing/_encoders.py:868: FutureWarning: `sparse` was renamed to `sparse_output` in version 1.2 and will be removed in 1.4. `sparse_output` is ignored unless you leave `sparse` to its default value.\n",
            "  warnings.warn(\n"
          ]
        }
      ]
    },
    {
      "cell_type": "code",
      "source": [
        "print('train\\t\\t',X_train.shape)\n",
        "print('validation\\t',X_val.shape)\n",
        "print('test\\t\\t',X_test.shape)"
      ],
      "metadata": {
        "colab": {
          "base_uri": "https://localhost:8080/"
        },
        "outputId": "57f6f53e-70dc-4a82-af5c-ed53a601df0e",
        "id": "Eoy3-N539rIl"
      },
      "execution_count": 150,
      "outputs": [
        {
          "output_type": "stream",
          "name": "stdout",
          "text": [
            "train\t\t (22398, 32, 32)\n",
            "validation\t (4800, 32, 32)\n",
            "test\t\t (4800, 32, 32)\n"
          ]
        }
      ]
    },
    {
      "cell_type": "code",
      "source": [
        "# flatten the matrices and splitting real and imaginary part\n",
        "X_train = np.array(list(map(lambda x: np.concatenate([x.real.flatten(),x.imag.flatten()]), X_train)))\n",
        "print(X_train.shape)\n",
        "X_val = np.array(list(map(lambda x: np.concatenate([x.real.flatten(),x.imag.flatten()]), X_val)))\n",
        "X_test = np.array(list(map(lambda x: np.concatenate([x.real.flatten(),x.imag.flatten()]), X_test)))"
      ],
      "metadata": {
        "colab": {
          "base_uri": "https://localhost:8080/"
        },
        "outputId": "a2fc1a67-a601-4378-d886-847fcfdb1b3e",
        "id": "H04c__-K9rIl"
      },
      "execution_count": 151,
      "outputs": [
        {
          "output_type": "stream",
          "name": "stdout",
          "text": [
            "(22398, 2048)\n"
          ]
        }
      ]
    },
    {
      "cell_type": "markdown",
      "source": [
        "## 2.1 MLP"
      ],
      "metadata": {
        "id": "rPdd4eGg_T35"
      }
    },
    {
      "cell_type": "markdown",
      "source": [
        "### 2.1.1 Build and train model"
      ],
      "metadata": {
        "id": "kNzpMl9V9rIl"
      }
    },
    {
      "cell_type": "markdown",
      "source": [
        "To address this classification task one can employ a Multi-Layer Perceptron. Since we are performing multiclass classification it is important that the output layer has one neuron per class with `softmax` activation function."
      ],
      "metadata": {
        "id": "cW_MglFH9rIm"
      }
    },
    {
      "cell_type": "code",
      "source": [
        "# keras imports\n",
        "from tensorflow.keras.models import Model\n",
        "from tensorflow.keras.layers import Dense, Input, Dropout, Activation\n",
        "from tensorflow.keras.utils import plot_model\n",
        "from tensorflow.keras import backend as K\n",
        "from tensorflow.keras import metrics\n",
        "from tensorflow.keras.callbacks import EarlyStopping, ReduceLROnPlateau, TerminateOnNaN"
      ],
      "metadata": {
        "id": "zVfIaP4I9rIm"
      },
      "execution_count": 142,
      "outputs": []
    },
    {
      "cell_type": "code",
      "source": [
        "input_shape = ((2**n_qubits)**2)*2\n",
        "dropoutRate = 0.25\n",
        "\n",
        "####\n",
        "inputArray = Input(shape=(input_shape,))\n",
        "#\n",
        "x = Dense(40, activation='relu')(inputArray)\n",
        "x = Dropout(dropoutRate)(x)\n",
        "#\n",
        "x = Dense(20)(x)\n",
        "x = Activation('relu')(x)\n",
        "x = Dropout(dropoutRate)(x)\n",
        "#\n",
        "x = Dense(10, activation='relu')(x)\n",
        "x = Dropout(dropoutRate)(x)\n",
        "#\n",
        "x = Dense(5, activation='relu')(x)\n",
        "#\n",
        "output = Dense(3, activation='softmax')(x)#\n",
        "####\n",
        "model = Model(inputs=inputArray, outputs=output)\n",
        "\n",
        "## The following MLP works slightly better but has about 570k parameters\n",
        "\n",
        "# input_shape = ((2**n_qubits)**2)*2\n",
        "# dropoutRate = 0.25\n",
        "\n",
        "# ####\n",
        "# inputArray = Input(shape=(input_shape))\n",
        "# #\n",
        "# x = Dense(256, activation='relu')(inputArray)\n",
        "# x = Dropout(dropoutRate)(x)\n",
        "# #\n",
        "# x = Dense(128)(x)\n",
        "# x = Activation('relu')(x)\n",
        "# x = Dropout(dropoutRate)(x)\n",
        "# #\n",
        "# x = Dense(64)(x)\n",
        "# x = Activation('relu')(x)\n",
        "# x = Dropout(dropoutRate)(x)\n",
        "# #\n",
        "# x = Dense(32, activation='relu')(x)\n",
        "# x = Dropout(dropoutRate)(x)\n",
        "# #\n",
        "# x = Dense(5, activation='relu')(x)\n",
        "# #\n",
        "# output = Dense(3, activation='softmax')(x)\n",
        "# ####\n",
        "# model = Model(inputs=inputArray, outputs=output)"
      ],
      "metadata": {
        "id": "crdKZEgW9rIm"
      },
      "execution_count": 152,
      "outputs": []
    },
    {
      "cell_type": "markdown",
      "source": [
        "For the same reason we employ the `categorical_crossentropy` as the the cost function for our training."
      ],
      "metadata": {
        "id": "h69CEjrN9rIm"
      }
    },
    {
      "cell_type": "code",
      "source": [
        "model.compile(loss='categorical_crossentropy', optimizer='adam')\n",
        "model.summary()"
      ],
      "metadata": {
        "colab": {
          "base_uri": "https://localhost:8080/"
        },
        "outputId": "07c35055-66d4-46a9-b080-b7afd3e268c7",
        "id": "JONHmoBn9rIm"
      },
      "execution_count": 153,
      "outputs": [
        {
          "output_type": "stream",
          "name": "stdout",
          "text": [
            "Model: \"model_33\"\n",
            "_________________________________________________________________\n",
            " Layer (type)                Output Shape              Param #   \n",
            "=================================================================\n",
            " input_46 (InputLayer)       [(None, 2048)]            0         \n",
            "                                                                 \n",
            " dense_167 (Dense)           (None, 40)                81960     \n",
            "                                                                 \n",
            " dropout_101 (Dropout)       (None, 40)                0         \n",
            "                                                                 \n",
            " dense_168 (Dense)           (None, 20)                820       \n",
            "                                                                 \n",
            " activation_66 (Activation)  (None, 20)                0         \n",
            "                                                                 \n",
            " dropout_102 (Dropout)       (None, 20)                0         \n",
            "                                                                 \n",
            " dense_169 (Dense)           (None, 10)                210       \n",
            "                                                                 \n",
            " dropout_103 (Dropout)       (None, 10)                0         \n",
            "                                                                 \n",
            " dense_170 (Dense)           (None, 5)                 55        \n",
            "                                                                 \n",
            " dense_171 (Dense)           (None, 3)                 18        \n",
            "                                                                 \n",
            "=================================================================\n",
            "Total params: 83,063\n",
            "Trainable params: 83,063\n",
            "Non-trainable params: 0\n",
            "_________________________________________________________________\n"
          ]
        }
      ]
    },
    {
      "cell_type": "code",
      "source": [
        "batch_size = 28\n",
        "n_epochs = 100\n",
        "\n",
        "# train\n",
        "history = model.fit(X_train, y_train, epochs=n_epochs, batch_size=batch_size, verbose = 2,\n",
        "                validation_data=(X_val, y_val),\n",
        "                callbacks = [\n",
        "                EarlyStopping(monitor='val_loss', patience=10, verbose=1),\n",
        "                ReduceLROnPlateau(monitor='val_loss', factor=0.1, patience=2, verbose=1),\n",
        "                TerminateOnNaN()])\n"
      ],
      "metadata": {
        "colab": {
          "base_uri": "https://localhost:8080/"
        },
        "outputId": "6953978c-089a-4ece-8395-dcaee08d7064",
        "id": "McAUin-C9rIm"
      },
      "execution_count": 154,
      "outputs": [
        {
          "output_type": "stream",
          "name": "stdout",
          "text": [
            "Epoch 1/100\n",
            "800/800 - 6s - loss: 0.9757 - val_loss: 0.6800 - lr: 0.0010 - 6s/epoch - 8ms/step\n",
            "Epoch 2/100\n",
            "800/800 - 3s - loss: 0.6822 - val_loss: 0.6172 - lr: 0.0010 - 3s/epoch - 4ms/step\n",
            "Epoch 3/100\n",
            "800/800 - 3s - loss: 0.6060 - val_loss: 0.5866 - lr: 0.0010 - 3s/epoch - 4ms/step\n",
            "Epoch 4/100\n",
            "800/800 - 5s - loss: 0.5703 - val_loss: 0.5542 - lr: 0.0010 - 5s/epoch - 6ms/step\n",
            "Epoch 5/100\n",
            "800/800 - 3s - loss: 0.5479 - val_loss: 0.5499 - lr: 0.0010 - 3s/epoch - 4ms/step\n",
            "Epoch 6/100\n",
            "800/800 - 3s - loss: 0.5207 - val_loss: 0.5410 - lr: 0.0010 - 3s/epoch - 4ms/step\n",
            "Epoch 7/100\n",
            "800/800 - 4s - loss: 0.5032 - val_loss: 0.5353 - lr: 0.0010 - 4s/epoch - 4ms/step\n",
            "Epoch 8/100\n",
            "800/800 - 5s - loss: 0.4933 - val_loss: 0.5100 - lr: 0.0010 - 5s/epoch - 6ms/step\n",
            "Epoch 9/100\n",
            "800/800 - 4s - loss: 0.4714 - val_loss: 0.4964 - lr: 0.0010 - 4s/epoch - 4ms/step\n",
            "Epoch 10/100\n",
            "800/800 - 3s - loss: 0.4497 - val_loss: 0.4835 - lr: 0.0010 - 3s/epoch - 4ms/step\n",
            "Epoch 11/100\n",
            "800/800 - 3s - loss: 0.4333 - val_loss: 0.4428 - lr: 0.0010 - 3s/epoch - 4ms/step\n",
            "Epoch 12/100\n",
            "800/800 - 4s - loss: 0.3998 - val_loss: 0.4126 - lr: 0.0010 - 4s/epoch - 5ms/step\n",
            "Epoch 13/100\n",
            "800/800 - 4s - loss: 0.3766 - val_loss: 0.3843 - lr: 0.0010 - 4s/epoch - 5ms/step\n",
            "Epoch 14/100\n",
            "800/800 - 3s - loss: 0.3520 - val_loss: 0.3667 - lr: 0.0010 - 3s/epoch - 4ms/step\n",
            "Epoch 15/100\n",
            "800/800 - 3s - loss: 0.3253 - val_loss: 0.3286 - lr: 0.0010 - 3s/epoch - 4ms/step\n",
            "Epoch 16/100\n",
            "800/800 - 4s - loss: 0.3059 - val_loss: 0.3227 - lr: 0.0010 - 4s/epoch - 5ms/step\n",
            "Epoch 17/100\n",
            "800/800 - 3s - loss: 0.2776 - val_loss: 0.3066 - lr: 0.0010 - 3s/epoch - 4ms/step\n",
            "Epoch 18/100\n",
            "800/800 - 3s - loss: 0.2674 - val_loss: 0.3013 - lr: 0.0010 - 3s/epoch - 4ms/step\n",
            "Epoch 19/100\n",
            "800/800 - 3s - loss: 0.2396 - val_loss: 0.2919 - lr: 0.0010 - 3s/epoch - 4ms/step\n",
            "Epoch 20/100\n",
            "800/800 - 4s - loss: 0.2301 - val_loss: 0.2774 - lr: 0.0010 - 4s/epoch - 5ms/step\n",
            "Epoch 21/100\n",
            "800/800 - 4s - loss: 0.2071 - val_loss: 0.2784 - lr: 0.0010 - 4s/epoch - 4ms/step\n",
            "Epoch 22/100\n",
            "800/800 - 3s - loss: 0.2058 - val_loss: 0.2718 - lr: 0.0010 - 3s/epoch - 4ms/step\n",
            "Epoch 23/100\n",
            "800/800 - 3s - loss: 0.1957 - val_loss: 0.2840 - lr: 0.0010 - 3s/epoch - 4ms/step\n",
            "Epoch 24/100\n",
            "\n",
            "Epoch 24: ReduceLROnPlateau reducing learning rate to 0.00010000000474974513.\n",
            "800/800 - 4s - loss: 0.1858 - val_loss: 0.3044 - lr: 0.0010 - 4s/epoch - 5ms/step\n",
            "Epoch 25/100\n",
            "800/800 - 4s - loss: 0.1786 - val_loss: 0.2906 - lr: 1.0000e-04 - 4s/epoch - 4ms/step\n",
            "Epoch 26/100\n",
            "\n",
            "Epoch 26: ReduceLROnPlateau reducing learning rate to 1.0000000474974514e-05.\n",
            "800/800 - 3s - loss: 0.1719 - val_loss: 0.2824 - lr: 1.0000e-04 - 3s/epoch - 4ms/step\n",
            "Epoch 27/100\n",
            "800/800 - 4s - loss: 0.1616 - val_loss: 0.2831 - lr: 1.0000e-05 - 4s/epoch - 5ms/step\n",
            "Epoch 28/100\n",
            "\n",
            "Epoch 28: ReduceLROnPlateau reducing learning rate to 1.0000000656873453e-06.\n",
            "800/800 - 4s - loss: 0.1625 - val_loss: 0.2832 - lr: 1.0000e-05 - 4s/epoch - 5ms/step\n",
            "Epoch 29/100\n",
            "800/800 - 4s - loss: 0.1637 - val_loss: 0.2832 - lr: 1.0000e-06 - 4s/epoch - 5ms/step\n",
            "Epoch 30/100\n",
            "\n",
            "Epoch 30: ReduceLROnPlateau reducing learning rate to 1.0000001111620805e-07.\n",
            "800/800 - 3s - loss: 0.1588 - val_loss: 0.2833 - lr: 1.0000e-06 - 3s/epoch - 4ms/step\n",
            "Epoch 31/100\n",
            "800/800 - 3s - loss: 0.1665 - val_loss: 0.2833 - lr: 1.0000e-07 - 3s/epoch - 4ms/step\n",
            "Epoch 32/100\n",
            "\n",
            "Epoch 32: ReduceLROnPlateau reducing learning rate to 1.000000082740371e-08.\n",
            "800/800 - 4s - loss: 0.1642 - val_loss: 0.2833 - lr: 1.0000e-07 - 4s/epoch - 5ms/step\n",
            "Epoch 32: early stopping\n"
          ]
        }
      ]
    },
    {
      "cell_type": "markdown",
      "source": [
        "### 2.1.2 Data analysis"
      ],
      "metadata": {
        "id": "GDhQ6lsR9rIn"
      }
    },
    {
      "cell_type": "markdown",
      "source": [
        "In this section, we evaluate the performance of the trained model. As a first step one can give a look to the (train and validation) loss history during training. From this one can check if the training procedure was succesful and detect the possible presence of overfitting. In this case, after 15 epochs training and validation losses start to depart from each other: training still goes, while validation stay fixed. I would not say that this is overfitting since we have high generalization on the test set as can be appreciated by the ROC curve."
      ],
      "metadata": {
        "id": "qbk6HLXp9rIn"
      }
    },
    {
      "cell_type": "code",
      "source": [
        "## PLOTTING HISTORY\n",
        "\n",
        "# plot training history\n",
        "plt.plot(history.history['loss'])\n",
        "plt.plot(history.history['val_loss'])\n",
        "# plt.yscale('log')\n",
        "plt.title('Training History')\n",
        "plt.ylabel('loss')\n",
        "plt.xlabel('epoch')\n",
        "plt.legend(['training', 'validation'], loc='upper right')\n",
        "plt.show()\n",
        "\n"
      ],
      "metadata": {
        "colab": {
          "base_uri": "https://localhost:8080/",
          "height": 480
        },
        "outputId": "cd4d9b11-749f-4623-ba81-160ffab5eb9f",
        "id": "DmjgtCeL9rIn"
      },
      "execution_count": 155,
      "outputs": [
        {
          "output_type": "display_data",
          "data": {
            "text/plain": [
              "<Figure size 640x480 with 1 Axes>"
            ],
            "image/png": "[encoded data removed]"
          },
          "metadata": {}
        }
      ]
    },
    {
      "cell_type": "code",
      "source": [
        "from sklearn.metrics import roc_curve, auc\n",
        "import pandas as pd\n",
        "\n",
        "labels = ['random', 'process 1', 'process 2']\n",
        "predict_test = model.predict(X_test)\n",
        "\n",
        "df = pd.DataFrame()\n",
        "fpr = {}\n",
        "tpr = {}\n",
        "auc1 = {}\n",
        "\n",
        "plt.figure()\n",
        "for i, label in enumerate(labels):\n",
        "    df[label] = y_test[:,i]\n",
        "    df[label + '_pred'] = predict_test[:,i]\n",
        "\n",
        "    fpr[label], tpr[label], threshold = roc_curve(df[label],df[label+'_pred'])\n",
        "\n",
        "    auc1[label] = auc(fpr[label], tpr[label])\n",
        "    plt.plot(fpr[label], tpr[label],label='%s, AUC = %.1f%%'%(label,auc1[label]*100.))\n",
        "plt.legend()\n",
        "plt.ylabel('TPR')\n",
        "plt.xlabel('FPR')\n"
      ],
      "metadata": {
        "colab": {
          "base_uri": "https://localhost:8080/",
          "height": 494
        },
        "outputId": "fa74a9c0-4f9e-4823-f115-6e29614ea9da",
        "id": "PbzD4Kzu9rIn"
      },
      "execution_count": 156,
      "outputs": [
        {
          "output_type": "stream",
          "name": "stdout",
          "text": [
            "150/150 [==============================] - 0s 2ms/step\n"
          ]
        },
        {
          "output_type": "execute_result",
          "data": {
            "text/plain": [
              "Text(0.5, 0, 'FPR')"
            ]
          },
          "metadata": {},
          "execution_count": 156
        },
        {
          "output_type": "display_data",
          "data": {
            "text/plain": [
              "<Figure size 640x480 with 1 Axes>"
            ],
            "image/png": "[encoded data removed]"
          },
          "metadata": {}
        }
      ]
    },
    {
      "cell_type": "markdown",
      "source": [
        "##2.2  CNN"
      ],
      "metadata": {
        "id": "y-gc7LbtjTUF"
      }
    },
    {
      "cell_type": "code",
      "source": [
        "n_qubits = 5 # quantum unit of computation\n",
        "            # determining the dimension of the state matrix\n",
        "            # matrix.shape = (2**(n_qubits),2**(n_qubits))\n",
        "size = 2**n_qubits*1000\n",
        "(X_train, X_val, X_test,\n",
        " y_train, y_val, y_test) = make_multiclass_dataset(n_qubits, size)"
      ],
      "metadata": {
        "colab": {
          "base_uri": "https://localhost:8080/"
        },
        "outputId": "c04d0c81-b46b-42e6-a088-0181bc802ac0",
        "id": "rU4coHOKjTUO"
      },
      "execution_count": 158,
      "outputs": [
        {
          "output_type": "stream",
          "name": "stderr",
          "text": [
            "/usr/local/lib/python3.10/dist-packages/sklearn/preprocessing/_encoders.py:868: FutureWarning: `sparse` was renamed to `sparse_output` in version 1.2 and will be removed in 1.4. `sparse_output` is ignored unless you leave `sparse` to its default value.\n",
            "  warnings.warn(\n"
          ]
        }
      ]
    },
    {
      "cell_type": "code",
      "source": [
        "print('train\\t\\t',X_train.shape)\n",
        "print('validation\\t',X_val.shape)\n",
        "print('test\\t\\t',X_test.shape)"
      ],
      "metadata": {
        "colab": {
          "base_uri": "https://localhost:8080/"
        },
        "outputId": "5e21d3b4-4d15-4279-eb76-bc36a0f6d8a4",
        "id": "pubLaz-XjTUO"
      },
      "execution_count": 159,
      "outputs": [
        {
          "output_type": "stream",
          "name": "stdout",
          "text": [
            "train\t\t (22398, 32, 32)\n",
            "validation\t (4800, 32, 32)\n",
            "test\t\t (4800, 32, 32)\n"
          ]
        }
      ]
    },
    {
      "cell_type": "markdown",
      "source": [
        "When using the CNN we do not need flattened the density matrices and join real and imaginary part, in fact we can work directly with matrices in multiple channels (one for the real part, one for the imaginary)."
      ],
      "metadata": {
        "id": "8SIjVaPYzLeR"
      }
    },
    {
      "cell_type": "code",
      "source": [
        "# splitting real and imaginary part\n",
        "X_train = np.array(list(map(lambda x: [x.real,x.imag], X_train)))#flatten()\n",
        "print(X_train.shape)\n",
        "X_val = np.array(list(map(lambda x: [x.real,x.imag], X_val)))\n",
        "X_test = np.array(list(map(lambda x: [x.real,x.imag], X_test)))"
      ],
      "metadata": {
        "colab": {
          "base_uri": "https://localhost:8080/"
        },
        "outputId": "9dad4f87-3741-426f-90c5-cc9f3373adfa",
        "id": "REPDU_01jTUR"
      },
      "execution_count": 160,
      "outputs": [
        {
          "output_type": "stream",
          "name": "stdout",
          "text": [
            "(22398, 2, 32, 32)\n"
          ]
        }
      ]
    },
    {
      "cell_type": "markdown",
      "source": [
        "### 2.2.1 Build and train model"
      ],
      "metadata": {
        "id": "fQDuJ6WSjTUR"
      }
    },
    {
      "cell_type": "markdown",
      "source": [
        "To address this classification task one can employ a Multi-Layer Perceptron. Since we are performing multiclass classification it is important that the output layer has one neuron per class with `softmax` activation function."
      ],
      "metadata": {
        "id": "3ACM_Q30jTUS"
      }
    },
    {
      "cell_type": "code",
      "source": [
        "# keras imports\n",
        "from tensorflow.keras.models import Model\n",
        "from tensorflow.keras.layers import Dense, Input, Conv1D, AveragePooling1D, MaxPooling1D, Dropout, Flatten, Activation\n",
        "from tensorflow.keras.layers import MaxPooling2D, BatchNormalization, Activation, Conv2D\n",
        "from tensorflow.keras.utils import plot_model\n",
        "from tensorflow.keras import backend as K\n",
        "from tensorflow.keras import metrics\n",
        "from tensorflow.keras.callbacks import EarlyStopping, ReduceLROnPlateau, TerminateOnNaN"
      ],
      "metadata": {
        "id": "Sbf9W6vTjTUS"
      },
      "execution_count": 161,
      "outputs": []
    },
    {
      "cell_type": "code",
      "source": [
        "input_shape = X_train.shape[1:]#(512,1)#((2**n_qubits)**2)*2\n",
        "dropoutRate = 0.25\n",
        "\n",
        "####\n",
        "inputArray = Input(shape=(input_shape))\n",
        "#\n",
        "x = Conv2D(10, kernel_size=(3,3), data_format=\"channels_first\", strides=1, padding=\"valid\", activation='relu')(inputArray)\n",
        "x = MaxPooling2D(pool_size=(2,2), data_format=\"channels_first\")(x)\n",
        "#\n",
        "x = Conv2D(20, kernel_size=(3,3), data_format=\"channels_first\", strides=1, padding=\"valid\", activation='relu')(x)\n",
        "x = MaxPooling2D(pool_size=(2,2), data_format=\"channels_first\")(x)\n",
        "#\n",
        "x = Flatten(data_format=\"channels_first\",)(x)\n",
        "#\n",
        "x = Dense(40)(x)\n",
        "x = Activation('relu')(x)\n",
        "x = Dropout(dropoutRate)(x)\n",
        "#\n",
        "x = Dense(20)(x)\n",
        "x = Activation('relu')(x)\n",
        "x = Dropout(dropoutRate)(x)\n",
        "#\n",
        "x = Dense(10, activation='relu')(x)\n",
        "x = Dropout(dropoutRate)(x)\n",
        "#\n",
        "x = Dense(5, activation='relu')(x)\n",
        "#\n",
        "output = Dense(3, activation='softmax')(x)\n",
        "####\n",
        "model = Model(inputs=inputArray, outputs=output)"
      ],
      "metadata": {
        "id": "vmkXUF88jTUS"
      },
      "execution_count": 162,
      "outputs": []
    },
    {
      "cell_type": "markdown",
      "source": [
        "For the same reason we employ the `categorical_crossentropy` as the the cost function for our training."
      ],
      "metadata": {
        "id": "qkrBc8hvjTUS"
      }
    },
    {
      "cell_type": "code",
      "source": [
        "model.compile(loss='categorical_crossentropy', optimizer='adam')\n",
        "model.summary()"
      ],
      "metadata": {
        "colab": {
          "base_uri": "https://localhost:8080/"
        },
        "outputId": "789d2661-7498-4ab2-e1a2-e3dea51369ac",
        "id": "tkpSjYyCjTUS"
      },
      "execution_count": 163,
      "outputs": [
        {
          "output_type": "stream",
          "name": "stdout",
          "text": [
            "Model: \"model_34\"\n",
            "_________________________________________________________________\n",
            " Layer (type)                Output Shape              Param #   \n",
            "=================================================================\n",
            " input_48 (InputLayer)       [(None, 2, 32, 32)]       0         \n",
            "                                                                 \n",
            " conv2d_33 (Conv2D)          (None, 10, 30, 30)        190       \n",
            "                                                                 \n",
            " max_pooling2d_37 (MaxPoolin  (None, 10, 15, 15)       0         \n",
            " g2D)                                                            \n",
            "                                                                 \n",
            " conv2d_34 (Conv2D)          (None, 20, 13, 13)        1820      \n",
            "                                                                 \n",
            " max_pooling2d_38 (MaxPoolin  (None, 20, 6, 6)         0         \n",
            " g2D)                                                            \n",
            "                                                                 \n",
            " flatten_19 (Flatten)        (None, 720)               0         \n",
            "                                                                 \n",
            " dense_172 (Dense)           (None, 40)                28840     \n",
            "                                                                 \n",
            " activation_67 (Activation)  (None, 40)                0         \n",
            "                                                                 \n",
            " dropout_104 (Dropout)       (None, 40)                0         \n",
            "                                                                 \n",
            " dense_173 (Dense)           (None, 20)                820       \n",
            "                                                                 \n",
            " activation_68 (Activation)  (None, 20)                0         \n",
            "                                                                 \n",
            " dropout_105 (Dropout)       (None, 20)                0         \n",
            "                                                                 \n",
            " dense_174 (Dense)           (None, 10)                210       \n",
            "                                                                 \n",
            " dropout_106 (Dropout)       (None, 10)                0         \n",
            "                                                                 \n",
            " dense_175 (Dense)           (None, 5)                 55        \n",
            "                                                                 \n",
            " dense_176 (Dense)           (None, 3)                 18        \n",
            "                                                                 \n",
            "=================================================================\n",
            "Total params: 31,953\n",
            "Trainable params: 31,953\n",
            "Non-trainable params: 0\n",
            "_________________________________________________________________\n"
          ]
        }
      ]
    },
    {
      "cell_type": "code",
      "source": [
        "batch_size = 28\n",
        "n_epochs = 100\n",
        "\n",
        "# train\n",
        "history = model.fit(X_train, y_train, epochs=n_epochs, batch_size=batch_size, verbose = 2,\n",
        "                validation_data=(X_val, y_val),\n",
        "                callbacks = [\n",
        "                EarlyStopping(monitor='val_loss', patience=10, verbose=1),\n",
        "                ReduceLROnPlateau(monitor='val_loss', factor=0.1, patience=2, verbose=1),\n",
        "                TerminateOnNaN()])\n"
      ],
      "metadata": {
        "colab": {
          "base_uri": "https://localhost:8080/"
        },
        "outputId": "6384f8f1-1da0-4465-d1af-25f9d213f7f4",
        "id": "zIZk7IBKjTUS"
      },
      "execution_count": 164,
      "outputs": [
        {
          "output_type": "stream",
          "name": "stdout",
          "text": [
            "Epoch 1/100\n",
            "800/800 - 8s - loss: 0.8148 - val_loss: 0.6139 - lr: 0.0010 - 8s/epoch - 10ms/step\n",
            "Epoch 2/100\n",
            "800/800 - 4s - loss: 0.5975 - val_loss: 0.5164 - lr: 0.0010 - 4s/epoch - 5ms/step\n",
            "Epoch 3/100\n",
            "800/800 - 4s - loss: 0.5190 - val_loss: 0.4417 - lr: 0.0010 - 4s/epoch - 6ms/step\n",
            "Epoch 4/100\n",
            "800/800 - 4s - loss: 0.4623 - val_loss: 0.3724 - lr: 0.0010 - 4s/epoch - 5ms/step\n",
            "Epoch 5/100\n",
            "800/800 - 4s - loss: 0.4136 - val_loss: 0.3474 - lr: 0.0010 - 4s/epoch - 5ms/step\n",
            "Epoch 6/100\n",
            "800/800 - 4s - loss: 0.3736 - val_loss: 0.2949 - lr: 0.0010 - 4s/epoch - 5ms/step\n",
            "Epoch 7/100\n",
            "800/800 - 4s - loss: 0.3479 - val_loss: 0.3845 - lr: 0.0010 - 4s/epoch - 5ms/step\n",
            "Epoch 8/100\n",
            "800/800 - 4s - loss: 0.3180 - val_loss: 0.2947 - lr: 0.0010 - 4s/epoch - 5ms/step\n",
            "Epoch 9/100\n",
            "800/800 - 4s - loss: 0.2933 - val_loss: 0.2544 - lr: 0.0010 - 4s/epoch - 5ms/step\n",
            "Epoch 10/100\n",
            "800/800 - 5s - loss: 0.2794 - val_loss: 0.2479 - lr: 0.0010 - 5s/epoch - 6ms/step\n",
            "Epoch 11/100\n",
            "800/800 - 4s - loss: 0.2681 - val_loss: 0.2327 - lr: 0.0010 - 4s/epoch - 5ms/step\n",
            "Epoch 12/100\n",
            "800/800 - 4s - loss: 0.2423 - val_loss: 0.2209 - lr: 0.0010 - 4s/epoch - 5ms/step\n",
            "Epoch 13/100\n",
            "800/800 - 5s - loss: 0.2288 - val_loss: 0.2072 - lr: 0.0010 - 5s/epoch - 6ms/step\n",
            "Epoch 14/100\n",
            "800/800 - 4s - loss: 0.2276 - val_loss: 0.1981 - lr: 0.0010 - 4s/epoch - 5ms/step\n",
            "Epoch 15/100\n",
            "800/800 - 4s - loss: 0.2133 - val_loss: 0.2011 - lr: 0.0010 - 4s/epoch - 5ms/step\n",
            "Epoch 16/100\n",
            "800/800 - 5s - loss: 0.2075 - val_loss: 0.1962 - lr: 0.0010 - 5s/epoch - 6ms/step\n",
            "Epoch 17/100\n",
            "800/800 - 4s - loss: 0.1928 - val_loss: 0.2068 - lr: 0.0010 - 4s/epoch - 5ms/step\n",
            "Epoch 18/100\n",
            "\n",
            "Epoch 18: ReduceLROnPlateau reducing learning rate to 0.00010000000474974513.\n",
            "800/800 - 4s - loss: 0.1885 - val_loss: 0.1996 - lr: 0.0010 - 4s/epoch - 5ms/step\n",
            "Epoch 19/100\n",
            "800/800 - 7s - loss: 0.1563 - val_loss: 0.1850 - lr: 1.0000e-04 - 7s/epoch - 8ms/step\n",
            "Epoch 20/100\n",
            "800/800 - 4s - loss: 0.1403 - val_loss: 0.1846 - lr: 1.0000e-04 - 4s/epoch - 5ms/step\n",
            "Epoch 21/100\n",
            "800/800 - 4s - loss: 0.1390 - val_loss: 0.1861 - lr: 1.0000e-04 - 4s/epoch - 5ms/step\n",
            "Epoch 22/100\n",
            "\n",
            "Epoch 22: ReduceLROnPlateau reducing learning rate to 1.0000000474974514e-05.\n",
            "800/800 - 4s - loss: 0.1288 - val_loss: 0.1919 - lr: 1.0000e-04 - 4s/epoch - 5ms/step\n",
            "Epoch 23/100\n",
            "800/800 - 5s - loss: 0.1259 - val_loss: 0.1857 - lr: 1.0000e-05 - 5s/epoch - 6ms/step\n",
            "Epoch 24/100\n",
            "\n",
            "Epoch 24: ReduceLROnPlateau reducing learning rate to 1.0000000656873453e-06.\n",
            "800/800 - 4s - loss: 0.1239 - val_loss: 0.1867 - lr: 1.0000e-05 - 4s/epoch - 5ms/step\n",
            "Epoch 25/100\n",
            "800/800 - 4s - loss: 0.1267 - val_loss: 0.1862 - lr: 1.0000e-06 - 4s/epoch - 5ms/step\n",
            "Epoch 26/100\n",
            "\n",
            "Epoch 26: ReduceLROnPlateau reducing learning rate to 1.0000001111620805e-07.\n",
            "800/800 - 5s - loss: 0.1224 - val_loss: 0.1859 - lr: 1.0000e-06 - 5s/epoch - 6ms/step\n",
            "Epoch 27/100\n",
            "800/800 - 4s - loss: 0.1249 - val_loss: 0.1859 - lr: 1.0000e-07 - 4s/epoch - 5ms/step\n",
            "Epoch 28/100\n",
            "\n",
            "Epoch 28: ReduceLROnPlateau reducing learning rate to 1.000000082740371e-08.\n",
            "800/800 - 4s - loss: 0.1229 - val_loss: 0.1859 - lr: 1.0000e-07 - 4s/epoch - 5ms/step\n",
            "Epoch 29/100\n",
            "800/800 - 4s - loss: 0.1223 - val_loss: 0.1859 - lr: 1.0000e-08 - 4s/epoch - 5ms/step\n",
            "Epoch 30/100\n",
            "\n",
            "Epoch 30: ReduceLROnPlateau reducing learning rate to 1.000000082740371e-09.\n",
            "800/800 - 4s - loss: 0.1221 - val_loss: 0.1859 - lr: 1.0000e-08 - 4s/epoch - 5ms/step\n",
            "Epoch 30: early stopping\n"
          ]
        }
      ]
    },
    {
      "cell_type": "markdown",
      "source": [
        "### 2.2.2 Data analysis"
      ],
      "metadata": {
        "id": "cTsgpUaXjTUT"
      }
    },
    {
      "cell_type": "markdown",
      "source": [
        "In this section, we evaluate the performance of the trained model. As a first step one can give a look to the (train and validation) loss history during training. From this one can check if the training procedure was succesful and detect the possible presence of overfitting. Even in this case, after 15 epochs training and validation losses start to depart from each other like for the MLP, but here the phenomenon is less evident. Generalization on the test set was improved as can be appreciated by the ROC curve (AUC is inceased of 0.2% for all classes)."
      ],
      "metadata": {
        "id": "styoVClejTUT"
      }
    },
    {
      "cell_type": "code",
      "source": [
        "## PLOTTING HISTORY\n",
        "\n",
        "# plot training history\n",
        "plt.plot(history.history['loss'])\n",
        "plt.plot(history.history['val_loss'])\n",
        "# plt.yscale('log')\n",
        "plt.title('Training History')\n",
        "plt.ylabel('loss')\n",
        "plt.xlabel('epoch')\n",
        "plt.legend(['training', 'validation'], loc='upper right')\n",
        "plt.show()\n",
        "\n"
      ],
      "metadata": {
        "colab": {
          "base_uri": "https://localhost:8080/",
          "height": 480
        },
        "outputId": "bb934253-9082-4b18-e68f-fd42d5296ca4",
        "id": "Puilzn8jjTUT"
      },
      "execution_count": 165,
      "outputs": [
        {
          "output_type": "display_data",
          "data": {
            "text/plain": [
              "<Figure size 640x480 with 1 Axes>"
            ],
            "image/png": "[encoded data removed]"
          },
          "metadata": {}
        }
      ]
    },
    {
      "cell_type": "code",
      "source": [
        "from sklearn.metrics import roc_curve, auc\n",
        "import pandas as pd\n",
        "\n",
        "labels = ['random', 'process 1', 'process 2']\n",
        "predict_test = model.predict(X_test)\n",
        "\n",
        "df = pd.DataFrame()\n",
        "fpr = {}\n",
        "tpr = {}\n",
        "auc1 = {}\n",
        "\n",
        "plt.figure()\n",
        "for i, label in enumerate(labels):\n",
        "    df[label] = y_test[:,i]\n",
        "    df[label + '_pred'] = predict_test[:,i]\n",
        "\n",
        "    fpr[label], tpr[label], threshold = roc_curve(df[label],df[label+'_pred'])\n",
        "\n",
        "    auc1[label] = auc(fpr[label], tpr[label])\n",
        "    plt.plot(fpr[label], tpr[label],label='%s, AUC = %.1f%%'%(label,auc1[label]*100.))\n",
        "plt.legend()\n",
        "plt.ylabel('TPR')\n",
        "plt.xlabel('FPR')\n"
      ],
      "metadata": {
        "colab": {
          "base_uri": "https://localhost:8080/",
          "height": 494
        },
        "outputId": "b6e098ea-6be7-44c1-b354-5de3a1ee96e7",
        "id": "k0vthzOtjTUT"
      },
      "execution_count": 167,
      "outputs": [
        {
          "output_type": "stream",
          "name": "stdout",
          "text": [
            "150/150 [==============================] - 0s 2ms/step\n"
          ]
        },
        {
          "output_type": "execute_result",
          "data": {
            "text/plain": [
              "Text(0.5, 0, 'FPR')"
            ]
          },
          "metadata": {},
          "execution_count": 167
        },
        {
          "output_type": "display_data",
          "data": {
            "text/plain": [
              "<Figure size 640x480 with 1 Axes>"
            ],
            "image/png": "[encoded data removed]"
          },
          "metadata": {}
        }
      ]
    }
  ]
}